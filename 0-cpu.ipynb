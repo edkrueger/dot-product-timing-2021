{
 "cells": [
  {
   "cell_type": "code",
   "execution_count": 1,
   "id": "e68074e9-dbba-415a-9667-55b8d985ae5e",
   "metadata": {},
   "outputs": [],
   "source": [
    "%load_ext lab_black"
   ]
  },
  {
   "cell_type": "code",
   "execution_count": 2,
   "id": "bda151b7-2d0e-4496-9566-5079e09b54c7",
   "metadata": {},
   "outputs": [],
   "source": [
    "import numpy as np\n",
    "from numba import jit\n",
    "\n",
    "from timing.timing import time_function"
   ]
  },
  {
   "cell_type": "code",
   "execution_count": 3,
   "id": "f8cff767-1b48-4ef3-b783-db60f527e580",
   "metadata": {},
   "outputs": [],
   "source": [
    "ARRAY_SIZE = 10 ** 6"
   ]
  },
  {
   "cell_type": "code",
   "execution_count": 4,
   "id": "4183a296-af93-4167-8d5d-c5b6309f176b",
   "metadata": {},
   "outputs": [],
   "source": [
    "rng = np.random.default_rng(1234)\n",
    "\n",
    "x = np.array(rng.random(ARRAY_SIZE), dtype=np.float32)\n",
    "y = np.array(rng.random(ARRAY_SIZE), dtype=np.float32)"
   ]
  },
  {
   "cell_type": "code",
   "execution_count": 5,
   "id": "c59c4344-8384-4fd7-8678-574315a3c128",
   "metadata": {},
   "outputs": [],
   "source": [
    "def dot(x, y):\n",
    "    dot_product = 0\n",
    "    for x_i, y_i in zip(x, y):\n",
    "        dot_product += x_i * y_i\n",
    "    return dot_product"
   ]
  },
  {
   "cell_type": "code",
   "execution_count": 6,
   "id": "87b0925b-63cb-41f6-8530-43804da90d96",
   "metadata": {},
   "outputs": [
    {
     "data": {
      "text/plain": [
       "[5.12015177700232, 9.255432253001345, 5.619576344000961]"
      ]
     },
     "execution_count": 6,
     "metadata": {},
     "output_type": "execute_result"
    }
   ],
   "source": [
    "time_function(dot, (x, y), agg=lambda x: x)"
   ]
  },
  {
   "cell_type": "code",
   "execution_count": 7,
   "id": "b0397126-8ae8-4ac7-aec7-7ccb32badcc2",
   "metadata": {},
   "outputs": [
    {
     "data": {
      "text/plain": [
       "[0.25459808700179565, 0.011250794002990006, 0.010974687000270933]"
      ]
     },
     "execution_count": 7,
     "metadata": {},
     "output_type": "execute_result"
    }
   ],
   "source": [
    "time_function(jit(nopython=True)(dot), (x, y), agg=lambda x: x)"
   ]
  },
  {
   "cell_type": "code",
   "execution_count": 8,
   "id": "9f18a219-fe33-4506-a554-8dddc751babe",
   "metadata": {},
   "outputs": [
    {
     "data": {
      "text/plain": [
       "[0.004049949002364883, 0.0027774640002462547, 0.002437560000544181]"
      ]
     },
     "execution_count": 8,
     "metadata": {},
     "output_type": "execute_result"
    }
   ],
   "source": [
    "time_function(np.dot, (x, y), agg=lambda x: x)"
   ]
  }
 ],
 "metadata": {
  "environment": {
   "kernel": "python3",
   "name": "common-cu110.m86",
   "type": "gcloud",
   "uri": "gcr.io/deeplearning-platform-release/base-cu110:m86"
  },
  "kernelspec": {
   "display_name": "Python 3",
   "language": "python",
   "name": "python3"
  },
  "language_info": {
   "codemirror_mode": {
    "name": "ipython",
    "version": 3
   },
   "file_extension": ".py",
   "mimetype": "text/x-python",
   "name": "python",
   "nbconvert_exporter": "python",
   "pygments_lexer": "ipython3",
   "version": "3.7.12"
  }
 },
 "nbformat": 4,
 "nbformat_minor": 5
}
