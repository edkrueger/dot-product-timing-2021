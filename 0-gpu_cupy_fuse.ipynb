{
 "cells": [
  {
   "cell_type": "code",
   "execution_count": 1,
   "id": "6b78a636-f7ca-4ca9-8357-84234e3d528e",
   "metadata": {},
   "outputs": [],
   "source": [
    "%load_ext lab_black"
   ]
  },
  {
   "cell_type": "code",
   "execution_count": 2,
   "id": "06d8b61f-c9b9-42e3-b7d7-9c3097be125e",
   "metadata": {},
   "outputs": [],
   "source": [
    "import numpy as np\n",
    "import cupy as cp\n",
    "\n",
    "from timing.timing import time_function"
   ]
  },
  {
   "cell_type": "code",
   "execution_count": 3,
   "id": "6ca32399-053d-4445-b0ec-178886ec69fd",
   "metadata": {},
   "outputs": [],
   "source": [
    "ARRAY_SIZE = 10 ** 6"
   ]
  },
  {
   "cell_type": "code",
   "execution_count": 4,
   "id": "dbd67492-1f2c-4626-a159-137028b45081",
   "metadata": {},
   "outputs": [],
   "source": [
    "rng = np.random.default_rng(1234)\n",
    "\n",
    "x = np.array(rng.random(ARRAY_SIZE), dtype=np.float32)\n",
    "y = np.array(rng.random(ARRAY_SIZE), dtype=np.float32)"
   ]
  },
  {
   "cell_type": "code",
   "execution_count": 5,
   "id": "bddc5900-c615-4d7c-b85e-466405ad0991",
   "metadata": {},
   "outputs": [],
   "source": [
    "x_cp = cp.asarray(x)\n",
    "y_cp = cp.asarray(y)"
   ]
  },
  {
   "cell_type": "code",
   "execution_count": 6,
   "id": "a45892d1-41e5-4888-80c8-c26bee9b1093",
   "metadata": {},
   "outputs": [],
   "source": [
    "@cp.fuse()\n",
    "def cp_mutiply(x, y):\n",
    "    return x * y"
   ]
  },
  {
   "cell_type": "code",
   "execution_count": 7,
   "id": "4eb3cca3-bc15-483f-8d55-557bc4efcacb",
   "metadata": {},
   "outputs": [],
   "source": [
    "@cp.fuse()\n",
    "def cp_dot(x, y):\n",
    "    return cp.sum(cp_mutiply(x, y), axis=-1)"
   ]
  },
  {
   "cell_type": "code",
   "execution_count": 8,
   "id": "e465b84e-48f0-484a-b63e-ad099586ee5c",
   "metadata": {},
   "outputs": [
    {
     "data": {
      "text/plain": [
       "[0.026091112000358407, 0.011763379000512941, 0.009451608999370364]"
      ]
     },
     "execution_count": 8,
     "metadata": {},
     "output_type": "execute_result"
    }
   ],
   "source": [
    "time_function(cp_dot, (x, y), agg=lambda x: x)"
   ]
  },
  {
   "cell_type": "code",
   "execution_count": 9,
   "id": "819f968a-e267-4d70-8285-1e52d5990ccc",
   "metadata": {},
   "outputs": [
    {
     "data": {
      "text/plain": [
       "[0.4166824619996987, 0.00023913499990158016, 0.0002724879996094387]"
      ]
     },
     "execution_count": 9,
     "metadata": {},
     "output_type": "execute_result"
    }
   ],
   "source": [
    "time_function(cp_dot, (x_cp, y_cp), agg=lambda x: x)"
   ]
  },
  {
   "cell_type": "code",
   "execution_count": 10,
   "id": "a938a05d-306c-4cba-a024-cfeb8fba0557",
   "metadata": {},
   "outputs": [
    {
     "data": {
      "text/plain": [
       "[0.013771928000096523, 0.01003406800009543, 0.009238292999725672]"
      ]
     },
     "execution_count": 10,
     "metadata": {},
     "output_type": "execute_result"
    }
   ],
   "source": [
    "time_function(cp_dot, (x, y), agg=lambda x: x)"
   ]
  },
  {
   "cell_type": "code",
   "execution_count": 11,
   "id": "c2261549-84f2-4a51-9d91-39247187a2c1",
   "metadata": {},
   "outputs": [
    {
     "data": {
      "text/plain": [
       "[0.003763187000004109, 0.00030774999959248817, 0.0004145300008531194]"
      ]
     },
     "execution_count": 11,
     "metadata": {},
     "output_type": "execute_result"
    }
   ],
   "source": [
    "time_function(cp.dot, (x_cp, y_cp), agg=lambda x: x)"
   ]
  }
 ],
 "metadata": {
  "environment": {
   "kernel": "python3",
   "name": "common-cu110.m86",
   "type": "gcloud",
   "uri": "gcr.io/deeplearning-platform-release/base-cu110:m86"
  },
  "kernelspec": {
   "display_name": "Python 3",
   "language": "python",
   "name": "python3"
  },
  "language_info": {
   "codemirror_mode": {
    "name": "ipython",
    "version": 3
   },
   "file_extension": ".py",
   "mimetype": "text/x-python",
   "name": "python",
   "nbconvert_exporter": "python",
   "pygments_lexer": "ipython3",
   "version": "3.7.12"
  }
 },
 "nbformat": 4,
 "nbformat_minor": 5
}
