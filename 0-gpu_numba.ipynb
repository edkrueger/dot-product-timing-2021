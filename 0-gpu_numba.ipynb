{
 "cells": [
  {
   "cell_type": "code",
   "execution_count": 1,
   "id": "d60cc60d-1108-4cca-a89d-ded94e2f2b15",
   "metadata": {},
   "outputs": [],
   "source": [
    "%load_ext lab_black"
   ]
  },
  {
   "cell_type": "code",
   "execution_count": 2,
   "id": "4edb2169-ec25-4c7a-a578-9c91460b5f5d",
   "metadata": {},
   "outputs": [],
   "source": [
    "import numpy as np\n",
    "from numba import cuda\n",
    "\n",
    "from timing.timing import time_function"
   ]
  },
  {
   "cell_type": "code",
   "execution_count": 3,
   "id": "b0828ad1-bdf5-4dc6-b4bb-9e79e29a0e8f",
   "metadata": {},
   "outputs": [],
   "source": [
    "ARRAY_SIZE = 10 ** 6"
   ]
  },
  {
   "cell_type": "code",
   "execution_count": 4,
   "id": "c4879918-fc1b-4bed-89b1-d7d48dcf627d",
   "metadata": {},
   "outputs": [],
   "source": [
    "rng = np.random.default_rng(1234)\n",
    "\n",
    "x = np.array(rng.random(ARRAY_SIZE), dtype=np.float32)\n",
    "y = np.array(rng.random(ARRAY_SIZE), dtype=np.float32)"
   ]
  },
  {
   "cell_type": "code",
   "execution_count": 5,
   "id": "3e8525a6-8dc9-48d1-b12e-582fa0827655",
   "metadata": {},
   "outputs": [],
   "source": [
    "# Threads are arranged in grids.\n",
    "# Each block contains many threads.\n",
    "# Each streaming multiprocessor (SM) can run one or more blocks.\n",
    "# A kernel is a grid of blocks.\n",
    "# Each device can run one or more kernels."
   ]
  },
  {
   "cell_type": "code",
   "execution_count": 6,
   "id": "a54c0846-d8c0-475b-89d5-a89d183a5468",
   "metadata": {},
   "outputs": [],
   "source": [
    "@cuda.jit(device=True)\n",
    "def cu_device_multiply(x_i, y_i):\n",
    "    return x_i * y_i"
   ]
  },
  {
   "cell_type": "code",
   "execution_count": 7,
   "id": "284788e2-2227-431f-a010-9841b30a805f",
   "metadata": {},
   "outputs": [],
   "source": [
    "@cuda.jit\n",
    "def _cu_multiply(x, y, z):\n",
    "    i = cuda.grid(1)\n",
    "    if i < z.size:\n",
    "        z[i] = cu_device_multiply(x[i], y[i])"
   ]
  },
  {
   "cell_type": "code",
   "execution_count": 8,
   "id": "112ce372-bdfd-4b90-807b-9e3e3fb012fa",
   "metadata": {},
   "outputs": [],
   "source": [
    "def cu_multiply(x, y):\n",
    "\n",
    "    threadsperblock = 32\n",
    "\n",
    "    blockspergrid = (ARRAY_SIZE + (threadsperblock - 1)) // threadsperblock\n",
    "\n",
    "    z = np.zeros(x.size)\n",
    "\n",
    "    _cu_multiply[blockspergrid, threadsperblock](x, y, z)\n",
    "\n",
    "    return z"
   ]
  },
  {
   "cell_type": "code",
   "execution_count": 9,
   "id": "fb70a8cb-2e1f-4cb2-b313-7a212e9a5a0c",
   "metadata": {},
   "outputs": [],
   "source": [
    "@cuda.reduce\n",
    "def cu_sum(a, b):\n",
    "    return a + b"
   ]
  },
  {
   "cell_type": "code",
   "execution_count": 10,
   "id": "51ee30de-48e5-476f-b3ad-9d0ca2a902d6",
   "metadata": {},
   "outputs": [],
   "source": [
    "def cu_dot(x, y):\n",
    "    return cu_sum(cu_multiply(x, y))"
   ]
  },
  {
   "cell_type": "code",
   "execution_count": 11,
   "id": "4d03c5b3-6643-4462-b37c-ff56f11e1ade",
   "metadata": {},
   "outputs": [
    {
     "name": "stderr",
     "output_type": "stream",
     "text": [
      "/opt/conda/lib/python3.7/site-packages/numba/cuda/cudadrv/devicearray.py:790: NumbaPerformanceWarning: \u001b[1mHost array used in CUDA kernel will incur copy overhead to/from device.\u001b[0m\n",
      "  warn(NumbaPerformanceWarning(msg))\n",
      "/opt/conda/lib/python3.7/site-packages/numba/cuda/cudadrv/devicearray.py:790: NumbaPerformanceWarning: \u001b[1mHost array used in CUDA kernel will incur copy overhead to/from device.\u001b[0m\n",
      "  warn(NumbaPerformanceWarning(msg))\n",
      "/opt/conda/lib/python3.7/site-packages/numba/cuda/compiler.py:865: NumbaPerformanceWarning: \u001b[1mGrid size (1) < 2 * SM count (26) will likely result in GPU under utilization due to low occupancy.\u001b[0m\n",
      "  warn(NumbaPerformanceWarning(msg))\n"
     ]
    },
    {
     "data": {
      "text/plain": [
       "[2.148743592999381, 0.3385372689990618, 0.3462544419999176]"
      ]
     },
     "execution_count": 11,
     "metadata": {},
     "output_type": "execute_result"
    }
   ],
   "source": [
    "time_function(cu_dot, (x, y), agg=lambda x: x)"
   ]
  }
 ],
 "metadata": {
  "environment": {
   "kernel": "python3",
   "name": "common-cu110.m86",
   "type": "gcloud",
   "uri": "gcr.io/deeplearning-platform-release/base-cu110:m86"
  },
  "kernelspec": {
   "display_name": "Python 3",
   "language": "python",
   "name": "python3"
  },
  "language_info": {
   "codemirror_mode": {
    "name": "ipython",
    "version": 3
   },
   "file_extension": ".py",
   "mimetype": "text/x-python",
   "name": "python",
   "nbconvert_exporter": "python",
   "pygments_lexer": "ipython3",
   "version": "3.7.12"
  }
 },
 "nbformat": 4,
 "nbformat_minor": 5
}
