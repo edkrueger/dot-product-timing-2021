{
 "cells": [
  {
   "cell_type": "code",
   "execution_count": 1,
   "id": "0b8293f0-61de-4277-b9ba-3fc00ab4d6a6",
   "metadata": {},
   "outputs": [],
   "source": [
    "%load_ext lab_black"
   ]
  },
  {
   "cell_type": "code",
   "execution_count": 2,
   "id": "98f8b267-4d67-4b51-9181-1b9333a4e2cd",
   "metadata": {},
   "outputs": [],
   "source": [
    "import numpy as np\n",
    "import cupy as cp"
   ]
  },
  {
   "cell_type": "code",
   "execution_count": 3,
   "id": "c7ec9f78-de58-4b83-8f26-e6fb1b257b5b",
   "metadata": {},
   "outputs": [],
   "source": [
    "def dot(x, y):\n",
    "    dot_product = 0\n",
    "    for x_i, y_i in zip(x, y):\n",
    "        dot_product += x_i * y_i\n",
    "    return dot_product"
   ]
  },
  {
   "cell_type": "code",
   "execution_count": 4,
   "id": "0e5a71a7-8ce6-4545-b1a5-bfac31f9e309",
   "metadata": {},
   "outputs": [],
   "source": [
    "ARRAY_SIZE = 10 ** 7"
   ]
  },
  {
   "cell_type": "code",
   "execution_count": 5,
   "id": "604fdda0-1c2a-4cba-a157-c9fe26009696",
   "metadata": {},
   "outputs": [],
   "source": [
    "rng = np.random.default_rng(1234)\n",
    "\n",
    "x = np.array(rng.random(ARRAY_SIZE), dtype=np.float32)\n",
    "y = np.array(rng.random(ARRAY_SIZE), dtype=np.float32)"
   ]
  },
  {
   "cell_type": "code",
   "execution_count": 6,
   "id": "186c20a4-7c88-4d2b-a9ce-26be7342b225",
   "metadata": {},
   "outputs": [],
   "source": [
    "def dot(x, y):\n",
    "    dot_product = 0\n",
    "    for x_i, y_i in zip(x, y):\n",
    "        dot_product += x_i * y_i\n",
    "    return dot_product"
   ]
  },
  {
   "cell_type": "markdown",
   "id": "6645b64c-12d7-41a3-bb4f-d5ae9f093ec3",
   "metadata": {},
   "source": [
    "## Timing with Time Magic"
   ]
  },
  {
   "cell_type": "markdown",
   "id": "e9366331-0375-43c5-920a-62a713eec7d2",
   "metadata": {},
   "source": [
    "Jupyter can time a single line of code with the `%time` magic."
   ]
  },
  {
   "cell_type": "code",
   "execution_count": 7,
   "id": "f875b824-ce99-462d-ae73-2037983749a7",
   "metadata": {},
   "outputs": [
    {
     "name": "stdout",
     "output_type": "stream",
     "text": [
      "CPU times: user 5.38 s, sys: 10.7 ms, total: 5.39 s\n",
      "Wall time: 5.43 s\n"
     ]
    },
    {
     "data": {
      "text/plain": [
       "2500685.6167771975"
      ]
     },
     "execution_count": 7,
     "metadata": {},
     "output_type": "execute_result"
    }
   ],
   "source": [
    "%time dot(x, y)"
   ]
  },
  {
   "cell_type": "markdown",
   "id": "88c4435f-d5ba-4060-9d58-2922a8b7bc80",
   "metadata": {},
   "source": [
    "Alternatively, Jupyter can time an entire cell with the `%%time` magic."
   ]
  },
  {
   "cell_type": "code",
   "execution_count": 8,
   "id": "b3204ee6-6f2a-4083-9773-7209413325f8",
   "metadata": {},
   "outputs": [
    {
     "name": "stdout",
     "output_type": "stream",
     "text": [
      "CPU times: user 5.28 s, sys: 1.4 ms, total: 5.28 s\n",
      "Wall time: 5.3 s\n"
     ]
    },
    {
     "data": {
      "text/plain": [
       "2500685.6167771975"
      ]
     },
     "execution_count": 8,
     "metadata": {},
     "output_type": "execute_result"
    }
   ],
   "source": [
    "%%time\n",
    "dot(x, y)"
   ]
  },
  {
   "cell_type": "markdown",
   "id": "bbf7f3bb-35c9-4ff9-bdbc-e8e0898f9d6c",
   "metadata": {},
   "source": [
    "Another option is the `%%timeit` cell magic. By default, this does seven runs. In each run, the cell is executed several times according to how long the executions take. If the cell executes quickly, the magic will execute the cells more time. Finally, it reports the average and standard deviation of the executions' total wall time across the runs."
   ]
  },
  {
   "cell_type": "code",
   "execution_count": 9,
   "id": "d6a85aa3-8929-4767-b69c-2516898bf844",
   "metadata": {},
   "outputs": [
    {
     "name": "stdout",
     "output_type": "stream",
     "text": [
      "5.41 s ± 175 ms per loop (mean ± std. dev. of 7 runs, 1 loop each)\n"
     ]
    }
   ],
   "source": [
    "%%timeit\n",
    "dot(x, y)"
   ]
  },
  {
   "cell_type": "markdown",
   "id": "0391827a-8f36-4c7f-a655-7725f6fa1c6b",
   "metadata": {},
   "source": [
    "It is a good practice to take finer level control. Since the array I am working with is large, I only do one execution per run. I specify this behavior by setting `-n 1`. Additionally, to limit our waiting time, I set the runs to be three: `-r 3`. It is a good pratice to time multiple runs. Finally, I specify that I want the magic to output the result by setting the `-o` flag."
   ]
  },
  {
   "cell_type": "code",
   "execution_count": 10,
   "id": "c211ee90-33ed-4041-8c39-183438351a61",
   "metadata": {},
   "outputs": [
    {
     "name": "stdout",
     "output_type": "stream",
     "text": [
      "5.53 s ± 139 ms per loop (mean ± std. dev. of 3 runs, 1 loop each)\n"
     ]
    },
    {
     "data": {
      "text/plain": [
       "<TimeitResult : 5.53 s ± 139 ms per loop (mean ± std. dev. of 3 runs, 1 loop each)>"
      ]
     },
     "execution_count": 10,
     "metadata": {},
     "output_type": "execute_result"
    }
   ],
   "source": [
    "%%timeit -n 1 -r 3 -o\n",
    "dot(x, y)"
   ]
  },
  {
   "cell_type": "markdown",
   "id": "b6f3c28b-89b8-4c3d-8194-d3acb8d72af6",
   "metadata": {},
   "source": [
    "As before, the magic prints the mean and standard deviation across the runs. It is tempting to use this information, but differences in wall time are far more likely to be caused by unrelated overhead on the computer or in some cases JIT compilation. So, it is good to look at the minimum, rather than the average, time for a run for a more accurate benchmark.\n",
    "\n",
    "I do this by referencing the output of the previous cell and accessing the `best` attribute. With Juypter, one can reference the output of the last cell by referencing the variable `_`."
   ]
  },
  {
   "cell_type": "code",
   "execution_count": 11,
   "id": "80f92218-22e0-4556-a674-cb81d6463943",
   "metadata": {},
   "outputs": [
    {
     "data": {
      "text/plain": [
       "5.336721798999861"
      ]
     },
     "execution_count": 11,
     "metadata": {},
     "output_type": "execute_result"
    }
   ],
   "source": [
    "python_dot_time = _.best\n",
    "python_dot_time"
   ]
  },
  {
   "cell_type": "markdown",
   "id": "f270acf2-0135-4bad-8c35-01479eb85023",
   "metadata": {},
   "source": [
    "Generally, you'll notice that this result is similar to but slightly faster than the result obtained by the `%%time` magic."
   ]
  },
  {
   "cell_type": "markdown",
   "id": "269d4f94-081b-4202-8489-d7c14f7fc323",
   "metadata": {},
   "source": [
    "In addition to explaining the timeing concepts, I also now have a baseline time for a dot product in pure Python."
   ]
  },
  {
   "cell_type": "markdown",
   "id": "f14c209d-d6df-435d-9367-8739096a7139",
   "metadata": {},
   "source": [
    "## Timing Numpy's Dot Product"
   ]
  },
  {
   "cell_type": "code",
   "execution_count": 12,
   "id": "bafe40c3-aa21-4f21-a5ef-27549dd25aa5",
   "metadata": {},
   "outputs": [
    {
     "name": "stdout",
     "output_type": "stream",
     "text": [
      "10.2 ms ± 818 µs per loop (mean ± std. dev. of 3 runs, 1 loop each)\n"
     ]
    },
    {
     "data": {
      "text/plain": [
       "<TimeitResult : 10.2 ms ± 818 µs per loop (mean ± std. dev. of 3 runs, 1 loop each)>"
      ]
     },
     "execution_count": 12,
     "metadata": {},
     "output_type": "execute_result"
    }
   ],
   "source": [
    "%%timeit -n 1 -r 3 -o\n",
    "np.dot(x, y)"
   ]
  },
  {
   "cell_type": "code",
   "execution_count": 13,
   "id": "9239098d-371c-4b24-9181-d75804a64544",
   "metadata": {},
   "outputs": [
    {
     "data": {
      "text/plain": [
       "[0.01128629400045611, 0.009792339999876276, 0.009381500999552372]"
      ]
     },
     "execution_count": 13,
     "metadata": {},
     "output_type": "execute_result"
    }
   ],
   "source": [
    "numpy_dot_time = _.best\n",
    "numpy_dot_time\n",
    "_.all_runs"
   ]
  },
  {
   "cell_type": "markdown",
   "id": "0cb4398f-2aea-42ef-acf0-28531e299c82",
   "metadata": {},
   "source": [
    "## Timing CuPy's Dot Product"
   ]
  },
  {
   "cell_type": "markdown",
   "id": "7f98b75f-ad58-4ff7-b2d3-50ad581010ac",
   "metadata": {},
   "source": [
    "### CPU"
   ]
  },
  {
   "cell_type": "code",
   "execution_count": 14,
   "id": "d49d6c51-ac6a-4bab-9a96-6f6be0362561",
   "metadata": {},
   "outputs": [
    {
     "name": "stdout",
     "output_type": "stream",
     "text": [
      "10.4 ms ± 1.01 ms per loop (mean ± std. dev. of 3 runs, 1 loop each)\n"
     ]
    },
    {
     "data": {
      "text/plain": [
       "<TimeitResult : 10.4 ms ± 1.01 ms per loop (mean ± std. dev. of 3 runs, 1 loop each)>"
      ]
     },
     "execution_count": 14,
     "metadata": {},
     "output_type": "execute_result"
    }
   ],
   "source": [
    "%%timeit -n 1 -r 3 -o\n",
    "cp.dot(x, y)"
   ]
  },
  {
   "cell_type": "code",
   "execution_count": 15,
   "id": "927b30bf-40a2-4869-8b7b-eb8aaa0a6df8",
   "metadata": {},
   "outputs": [
    {
     "data": {
      "text/plain": [
       "[0.01183192999997118, 0.009935895999660715, 0.009495285000411968]"
      ]
     },
     "execution_count": 15,
     "metadata": {},
     "output_type": "execute_result"
    }
   ],
   "source": [
    "cp_cpu_time = _.best\n",
    "cp_cpu_time\n",
    "_.all_runs"
   ]
  },
  {
   "cell_type": "markdown",
   "id": "d0806e75-c325-4216-9696-da3748871c0f",
   "metadata": {},
   "source": [
    "### GPU"
   ]
  },
  {
   "cell_type": "code",
   "execution_count": 16,
   "id": "85271cb3-848d-4768-8c63-d38182af9f56",
   "metadata": {},
   "outputs": [],
   "source": [
    "x_cp = cp.asarray(x)\n",
    "y_cp = cp.asarray(y)"
   ]
  },
  {
   "cell_type": "code",
   "execution_count": 17,
   "id": "2dcb445d-deba-438f-99b2-e31e50d13b80",
   "metadata": {},
   "outputs": [
    {
     "name": "stdout",
     "output_type": "stream",
     "text": [
      "The slowest run took 2119.78 times longer than the fastest. This could mean that an intermediate result is being cached.\n",
      "43.5 ms ± 61.5 ms per loop (mean ± std. dev. of 3 runs, 1 loop each)\n"
     ]
    },
    {
     "data": {
      "text/plain": [
       "<TimeitResult : 43.5 ms ± 61.5 ms per loop (mean ± std. dev. of 3 runs, 1 loop each)>"
      ]
     },
     "execution_count": 17,
     "metadata": {},
     "output_type": "execute_result"
    }
   ],
   "source": [
    "%%timeit -n 1 -r 3 -o\n",
    "cp.dot(x_cp, y_cp)"
   ]
  },
  {
   "cell_type": "code",
   "execution_count": 18,
   "id": "a626f98f-49ba-46a6-beac-c3ce130e2528",
   "metadata": {},
   "outputs": [
    {
     "name": "stdout",
     "output_type": "stream",
     "text": [
      "6.153899994387757e-05\n",
      "[0.13044936200003576, 0.00011599699973885436, 6.153899994387757e-05]\n"
     ]
    }
   ],
   "source": [
    "cp_gpu_time = _.best\n",
    "print(cp_gpu_time)\n",
    "print(_.all_runs)"
   ]
  },
  {
   "cell_type": "markdown",
   "id": "c4a22fe7-c096-4f25-84ad-b467c4a46dd8",
   "metadata": {},
   "source": [
    "### CPU to GPU"
   ]
  },
  {
   "cell_type": "code",
   "execution_count": 19,
   "id": "d3e2bae4-4f53-40fc-8533-3512a6883ed5",
   "metadata": {},
   "outputs": [
    {
     "name": "stdout",
     "output_type": "stream",
     "text": [
      "23.7 ms ± 12.3 ms per loop (mean ± std. dev. of 3 runs, 1 loop each)\n"
     ]
    },
    {
     "data": {
      "text/plain": [
       "<TimeitResult : 23.7 ms ± 12.3 ms per loop (mean ± std. dev. of 3 runs, 1 loop each)>"
      ]
     },
     "execution_count": 19,
     "metadata": {},
     "output_type": "execute_result"
    }
   ],
   "source": [
    "%%timeit -n 1 -r 3 -o\n",
    "x_cp = cp.asarray(x)\n",
    "y_cp = cp.asarray(y)\n",
    "cp.dot(x_cp, y_cp)"
   ]
  },
  {
   "cell_type": "code",
   "execution_count": 20,
   "id": "0ce913d9-43f2-47ee-ac52-81a1d5560506",
   "metadata": {},
   "outputs": [
    {
     "name": "stdout",
     "output_type": "stream",
     "text": [
      "0.011271320000560081\n",
      "[0.019287747999442217, 0.0404844980002963, 0.011271320000560081]\n"
     ]
    }
   ],
   "source": [
    "cp_cpu_gpu_time = _.best\n",
    "print(cp_cpu_gpu_time)\n",
    "print(_.all_runs)"
   ]
  },
  {
   "cell_type": "markdown",
   "id": "19f1ff1a-f5db-4032-8ab5-42f27ec76b8f",
   "metadata": {},
   "source": [
    "### CPU to GPU to CUP"
   ]
  },
  {
   "cell_type": "code",
   "execution_count": 21,
   "id": "13e21f03-348e-45f0-8bb6-2dde2e5cf459",
   "metadata": {},
   "outputs": [
    {
     "name": "stdout",
     "output_type": "stream",
     "text": [
      "30.5 ms ± 1.3 ms per loop (mean ± std. dev. of 3 runs, 1 loop each)\n"
     ]
    },
    {
     "data": {
      "text/plain": [
       "<TimeitResult : 30.5 ms ± 1.3 ms per loop (mean ± std. dev. of 3 runs, 1 loop each)>"
      ]
     },
     "execution_count": 21,
     "metadata": {},
     "output_type": "execute_result"
    }
   ],
   "source": [
    "%%timeit -n 1 -r 3 -o\n",
    "x_cp = cp.asarray(x)\n",
    "y_cp = cp.asarray(y)\n",
    "result = cp.dot(x_cp, y_cp)\n",
    "result.get()"
   ]
  },
  {
   "cell_type": "code",
   "execution_count": 22,
   "id": "2864129f-b590-44be-ad06-77cc8784e65a",
   "metadata": {},
   "outputs": [
    {
     "name": "stdout",
     "output_type": "stream",
     "text": [
      "0.029510293999919668\n",
      "[0.0323292989996844, 0.029632329000378377, 0.029510293999919668]\n"
     ]
    }
   ],
   "source": [
    "cp_cpu_gpu_cpu_time = _.best\n",
    "print(cp_cpu_gpu_cpu_time)\n",
    "print(_.all_runs)"
   ]
  }
 ],
 "metadata": {
  "environment": {
   "kernel": "python3",
   "name": "common-cu110.m86",
   "type": "gcloud",
   "uri": "gcr.io/deeplearning-platform-release/base-cu110:m86"
  },
  "kernelspec": {
   "display_name": "Python 3",
   "language": "python",
   "name": "python3"
  },
  "language_info": {
   "codemirror_mode": {
    "name": "ipython",
    "version": 3
   },
   "file_extension": ".py",
   "mimetype": "text/x-python",
   "name": "python",
   "nbconvert_exporter": "python",
   "pygments_lexer": "ipython3",
   "version": "3.7.12"
  }
 },
 "nbformat": 4,
 "nbformat_minor": 5
}
